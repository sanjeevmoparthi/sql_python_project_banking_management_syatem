{
 "cells": [
  {
   "cell_type": "code",
   "execution_count": 42,
   "id": "14e091d0",
   "metadata": {},
   "outputs": [],
   "source": [
    "import mysql.connector"
   ]
  },
  {
   "cell_type": "code",
   "execution_count": 43,
   "id": "3d41770f",
   "metadata": {},
   "outputs": [],
   "source": [
    "db = mysql.connector.connect(\n",
    "    host = 'localhost',\n",
    "    user = 'root',\n",
    "    password = 'sanjeev@75',\n",
    "    database = 'banking_management_system'\n",
    "\n",
    ")\n",
    "\n",
    "cursor = db.cursor()"
   ]
  },
  {
   "cell_type": "code",
   "execution_count": 37,
   "id": "5ad19ae9",
   "metadata": {},
   "outputs": [],
   "source": [
    "cursor.execute('select * from user_personal_data;')"
   ]
  },
  {
   "cell_type": "code",
   "execution_count": 38,
   "id": "7892cb8b",
   "metadata": {},
   "outputs": [
    {
     "data": {
      "text/plain": [
       "('customer_id', 'name', 'contact', 'city')"
      ]
     },
     "execution_count": 38,
     "metadata": {},
     "output_type": "execute_result"
    }
   ],
   "source": [
    "cursor.column_names"
   ]
  },
  {
   "cell_type": "code",
   "execution_count": 45,
   "id": "62583349",
   "metadata": {},
   "outputs": [
    {
     "data": {
      "text/plain": [
       "('customer_id', 'acc_no', 'acc_balance', 'acc_type', 'branch_code')"
      ]
     },
     "execution_count": 45,
     "metadata": {},
     "output_type": "execute_result"
    }
   ],
   "source": [
    "cursor.execute('select * from user_banking_data;')\n",
    "cursor.fetchall()\n",
    "cursor.column_names"
   ]
  },
  {
   "cell_type": "code",
   "execution_count": 20,
   "id": "5eaf9aff",
   "metadata": {},
   "outputs": [
    {
     "name": "stdout",
     "output_type": "stream",
     "text": [
      "697465\n"
     ]
    },
    {
     "name": "stderr",
     "output_type": "stream",
     "text": [
      "C:\\Users\\Sanjeev kumar\\AppData\\Local\\Temp\\ipykernel_10168\\197431696.py:2: DeprecationWarning: This function is deprecated. Please call randint(100000, 999999 + 1) instead\n",
      "  cust_id = numpy.random.random_integers(100000,999999)\n"
     ]
    }
   ],
   "source": [
    "import math,numpy\n",
    "cust_id = numpy.random.random_integers(100000,999999)\n",
    "print(cust_id)"
   ]
  },
  {
   "cell_type": "code",
   "execution_count": 23,
   "id": "c41db871",
   "metadata": {},
   "outputs": [],
   "source": [
    "# 1.account opening\n",
    "name = input('Enter your full name: ')\n",
    "cont = input('enter your contact no:')\n",
    "city = input('enter your city:')\n",
    "acc_type = input(\"enter account type \")\n",
    "\n",
    " "
   ]
  },
  {
   "cell_type": "code",
   "execution_count": 24,
   "id": "fb38241a",
   "metadata": {},
   "outputs": [],
   "source": [
    "db.commit()\n",
    "cursor.execute(f\"insert into user_personal_data values ('{cust_id}','{name}','{cont}' ,'{city}' );\")"
   ]
  },
  {
   "cell_type": "code",
   "execution_count": 25,
   "id": "7b4c900e",
   "metadata": {},
   "outputs": [
    {
     "data": {
      "text/plain": [
       "[(1234, 'Ayush', '34342323', 'Mumbai'),\n",
       " (1235, 'Ankit', '98342323', 'Delhi'),\n",
       " (155655, 'sparsh', '8765', 'srem'),\n",
       " (697465, 'shalini', '989876', 'ghaji'),\n",
       " (764891, '', 'sanjeev', '620630')]"
      ]
     },
     "execution_count": 25,
     "metadata": {},
     "output_type": "execute_result"
    }
   ],
   "source": [
    "cursor.execute('select * from user_personal_data;')\n",
    "cursor.fetchall()"
   ]
  },
  {
   "cell_type": "code",
   "execution_count": 26,
   "id": "f6c676e3",
   "metadata": {},
   "outputs": [
    {
     "data": {
      "text/plain": [
       "[(155655, 155755, Decimal('8765.00'), 'srem', 'del2'),\n",
       " (1235, 456781, Decimal('500.00'), 'current', 'del1'),\n",
       " (1234, 456789, Decimal('100.00'), 'saving', 'mum2'),\n",
       " (697465, 697565, Decimal('989876.00'), 'ghaji', 'del2')]"
      ]
     },
     "execution_count": 26,
     "metadata": {},
     "output_type": "execute_result"
    }
   ],
   "source": [
    "cursor.execute(f\"insert into user_banking_data values ('{cust_id}','{cust_id+100}','{cont}' ,'{city}' ,'del2');\")\n",
    "cursor.execute('select * from user_banking_data;')\n",
    "cursor.fetchall()"
   ]
  },
  {
   "cell_type": "code",
   "execution_count": 31,
   "id": "58928ad4",
   "metadata": {},
   "outputs": [],
   "source": [
    "# deposit found \n",
    "acc_no = int(input('Enter your account number: '))\n",
    "amt = float(input('Enter amount to dispute:'))\n",
    "\n",
    "cursor.execute(f'call deposit_fund({acc_no},{amt});')\n",
    "cursor.fetchall()\n",
    "\n",
    "db.commit()"
   ]
  },
  {
   "cell_type": "code",
   "execution_count": null,
   "id": "b9f7dc9f",
   "metadata": {},
   "outputs": [],
   "source": [
    "acc_no = int(input('Enter your account number: '))\n",
    "amt = float(input('Enter amount to withdraw:'))\n",
    "\n",
    "cursor.execute(f'call withdraw_fund({acc_no},{amt});')\n",
    "cursor.fetchall()\n",
    "\n"
   ]
  },
  {
   "cell_type": "code",
   "execution_count": 44,
   "id": "3e0fbf6d",
   "metadata": {},
   "outputs": [
    {
     "ename": "ProgrammingError",
     "evalue": "1054 (42S22): Unknown column 'avl_bal' in 'field list'",
     "output_type": "error",
     "traceback": [
      "\u001b[31m---------------------------------------------------------------------------\u001b[39m",
      "\u001b[31mMySQLInterfaceError\u001b[39m                       Traceback (most recent call last)",
      "\u001b[36mFile \u001b[39m\u001b[32mc:\\Users\\Sanjeev kumar\\AppData\\Local\\Programs\\Python\\Python313\\Lib\\site-packages\\mysql\\connector\\connection_cext.py:511\u001b[39m, in \u001b[36mCMySQLConnection.get_rows\u001b[39m\u001b[34m(self, count, binary, columns, raw, prep_stmt, **kwargs)\u001b[39m\n\u001b[32m    509\u001b[39m     \u001b[38;5;28mself\u001b[39m._cmysql.raw(\u001b[38;5;28;01mTrue\u001b[39;00m)\n\u001b[32m--> \u001b[39m\u001b[32m511\u001b[39m row = \u001b[43mfetch_row\u001b[49m\u001b[43m(\u001b[49m\u001b[43m)\u001b[49m\n\u001b[32m    512\u001b[39m \u001b[38;5;28;01mwhile\u001b[39;00m row:\n",
      "\u001b[31mMySQLInterfaceError\u001b[39m: Unknown column 'avl_bal' in 'field list'",
      "\nThe above exception was the direct cause of the following exception:\n",
      "\u001b[31mProgrammingError\u001b[39m                          Traceback (most recent call last)",
      "\u001b[36mCell\u001b[39m\u001b[36m \u001b[39m\u001b[32mIn[44]\u001b[39m\u001b[32m, line 5\u001b[39m\n\u001b[32m      2\u001b[39m acc_no = \u001b[38;5;28mint\u001b[39m(\u001b[38;5;28minput\u001b[39m(\u001b[33m'\u001b[39m\u001b[33mEnter your account number: \u001b[39m\u001b[33m'\u001b[39m))\n\u001b[32m      4\u001b[39m cursor.execute(\u001b[33mf\u001b[39m\u001b[33m'\u001b[39m\u001b[33mselect banking_management_system.check_balance(\u001b[39m\u001b[38;5;132;01m{\u001b[39;00macc_no\u001b[38;5;132;01m}\u001b[39;00m\u001b[33m)\u001b[39m\u001b[33m'\u001b[39m)\n\u001b[32m----> \u001b[39m\u001b[32m5\u001b[39m \u001b[43mcursor\u001b[49m\u001b[43m.\u001b[49m\u001b[43mfetchall\u001b[49m\u001b[43m(\u001b[49m\u001b[43m)\u001b[49m\n",
      "\u001b[36mFile \u001b[39m\u001b[32mc:\\Users\\Sanjeev kumar\\AppData\\Local\\Programs\\Python\\Python313\\Lib\\site-packages\\mysql\\connector\\cursor_cext.py:675\u001b[39m, in \u001b[36mCMySQLCursor.fetchall\u001b[39m\u001b[34m(self)\u001b[39m\n\u001b[32m    672\u001b[39m \u001b[38;5;28;01mif\u001b[39;00m \u001b[38;5;129;01mnot\u001b[39;00m \u001b[38;5;28mself\u001b[39m._connection.unread_result:\n\u001b[32m    673\u001b[39m     \u001b[38;5;28;01mreturn\u001b[39;00m []\n\u001b[32m--> \u001b[39m\u001b[32m675\u001b[39m rows = \u001b[38;5;28;43mself\u001b[39;49m\u001b[43m.\u001b[49m\u001b[43m_connection\u001b[49m\u001b[43m.\u001b[49m\u001b[43mget_rows\u001b[49m\u001b[43m(\u001b[49m\u001b[43mraw\u001b[49m\u001b[43m=\u001b[49m\u001b[38;5;28;43mself\u001b[39;49m\u001b[43m.\u001b[49m\u001b[43m_raw\u001b[49m\u001b[43m)\u001b[49m\n\u001b[32m    676\u001b[39m \u001b[38;5;28;01mif\u001b[39;00m \u001b[38;5;28mself\u001b[39m._nextrow \u001b[38;5;129;01mand\u001b[39;00m \u001b[38;5;28mself\u001b[39m._nextrow[\u001b[32m0\u001b[39m]:\n\u001b[32m    677\u001b[39m     rows[\u001b[32m0\u001b[39m].insert(\u001b[32m0\u001b[39m, \u001b[38;5;28mself\u001b[39m._nextrow[\u001b[32m0\u001b[39m])\n",
      "\u001b[36mFile \u001b[39m\u001b[32mc:\\Users\\Sanjeev kumar\\AppData\\Local\\Programs\\Python\\Python313\\Lib\\site-packages\\mysql\\connector\\connection_cext.py:558\u001b[39m, in \u001b[36mCMySQLConnection.get_rows\u001b[39m\u001b[34m(self, count, binary, columns, raw, prep_stmt, **kwargs)\u001b[39m\n\u001b[32m    556\u001b[39m         \u001b[38;5;28mself\u001b[39m.free_result()\n\u001b[32m    557\u001b[39m     \u001b[38;5;28;01mif\u001b[39;00m \u001b[38;5;28mhasattr\u001b[39m(err, \u001b[33m\"\u001b[39m\u001b[33merrno\u001b[39m\u001b[33m\"\u001b[39m):\n\u001b[32m--> \u001b[39m\u001b[32m558\u001b[39m         \u001b[38;5;28;01mraise\u001b[39;00m get_mysql_exception(\n\u001b[32m    559\u001b[39m             err.errno, msg=err.msg, sqlstate=err.sqlstate\n\u001b[32m    560\u001b[39m         ) \u001b[38;5;28;01mfrom\u001b[39;00m\u001b[38;5;250m \u001b[39m\u001b[34;01merr\u001b[39;00m\n\u001b[32m    561\u001b[39m     \u001b[38;5;28;01mraise\u001b[39;00m InterfaceError(\u001b[38;5;28mstr\u001b[39m(err)) \u001b[38;5;28;01mfrom\u001b[39;00m\u001b[38;5;250m \u001b[39m\u001b[34;01merr\u001b[39;00m\n\u001b[32m    563\u001b[39m \u001b[38;5;28;01mreturn\u001b[39;00m rows, _eof\n",
      "\u001b[31mProgrammingError\u001b[39m: 1054 (42S22): Unknown column 'avl_bal' in 'field list'"
     ]
    }
   ],
   "source": [
    "# check balance\n",
    "acc_no = int(input('Enter your account number: '))\n",
    "\n",
    "cursor.execute(f'select banking_management_system.check_balance({acc_no})')\n",
    "cursor.fetchall()"
   ]
  },
  {
   "cell_type": "code",
   "execution_count": null,
   "id": "3b08b53b",
   "metadata": {},
   "outputs": [],
   "source": [
    "# last 5 transcation check\n",
    "\n",
    "acc_no = int(input('Enter your account number:'))\n",
    "cursor.execute(f'call `check_last_5_trnx` ({acc_no});')\n",
    "cursor.fetchall()"
   ]
  },
  {
   "cell_type": "code",
   "execution_count": null,
   "id": "ca2f011c",
   "metadata": {},
   "outputs": [],
   "source": [
    "# 6.deleting account \n",
    "acc_no = int(input('Enter your account number:'))\n",
    "cursor.execute(f'delete from user_transcation_data where acc_no =  {acc_no};')\n",
    "cursor.fetchall()"
   ]
  },
  {
   "cell_type": "code",
   "execution_count": null,
   "id": "26e46e1e",
   "metadata": {},
   "outputs": [],
   "source": []
  }
 ],
 "metadata": {
  "kernelspec": {
   "display_name": "Python 3",
   "language": "python",
   "name": "python3"
  },
  "language_info": {
   "codemirror_mode": {
    "name": "ipython",
    "version": 3
   },
   "file_extension": ".py",
   "mimetype": "text/x-python",
   "name": "python",
   "nbconvert_exporter": "python",
   "pygments_lexer": "ipython3",
   "version": "3.13.2"
  }
 },
 "nbformat": 4,
 "nbformat_minor": 5
}
